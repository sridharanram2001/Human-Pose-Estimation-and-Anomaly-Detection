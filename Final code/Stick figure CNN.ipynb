{
 "cells": [
  {
   "cell_type": "code",
   "execution_count": 1,
   "metadata": {},
   "outputs": [
    {
     "ename": "ModuleNotFoundError",
     "evalue": "No module named 'seaborn'",
     "output_type": "error",
     "traceback": [
      "\u001b[1;31m---------------------------------------------------------------------------\u001b[0m",
      "\u001b[1;31mModuleNotFoundError\u001b[0m                       Traceback (most recent call last)",
      "\u001b[1;32m<ipython-input-1-d7c6313f7ad4>\u001b[0m in \u001b[0;36m<module>\u001b[1;34m\u001b[0m\n\u001b[0;32m      2\u001b[0m \u001b[1;32mimport\u001b[0m \u001b[0mpandas\u001b[0m \u001b[1;32mas\u001b[0m \u001b[0mpd\u001b[0m\u001b[1;33m\u001b[0m\u001b[0m\n\u001b[0;32m      3\u001b[0m \u001b[1;32mimport\u001b[0m \u001b[0mnumpy\u001b[0m \u001b[1;32mas\u001b[0m \u001b[0mnp\u001b[0m\u001b[1;33m\u001b[0m\u001b[0m\n\u001b[1;32m----> 4\u001b[1;33m \u001b[1;32mimport\u001b[0m \u001b[0mseaborn\u001b[0m \u001b[1;32mas\u001b[0m \u001b[0msns\u001b[0m\u001b[1;33m\u001b[0m\u001b[0m\n\u001b[0m\u001b[0;32m      5\u001b[0m \u001b[1;32mimport\u001b[0m \u001b[0mmatplotlib\u001b[0m\u001b[1;33m.\u001b[0m\u001b[0mpyplot\u001b[0m \u001b[1;32mas\u001b[0m \u001b[0mplt\u001b[0m\u001b[1;33m\u001b[0m\u001b[0m\n\u001b[0;32m      6\u001b[0m \u001b[1;32mfrom\u001b[0m \u001b[0mmatplotlib\u001b[0m\u001b[1;33m.\u001b[0m\u001b[0mimage\u001b[0m \u001b[1;32mimport\u001b[0m \u001b[0mimread\u001b[0m\u001b[1;33m\u001b[0m\u001b[0m\n",
      "\u001b[1;31mModuleNotFoundError\u001b[0m: No module named 'seaborn'"
     ]
    }
   ],
   "source": [
    "import os\n",
    "import pandas as pd\n",
    "import numpy as np\n",
    "import seaborn as sns\n",
    "import matplotlib.pyplot as plt\n",
    "from matplotlib.image import imread\n",
    "# Technically not necessary in newest versions of jupyter\n",
    "%matplotlib inline"
   ]
  },
  {
   "cell_type": "code",
   "execution_count": 11,
   "metadata": {},
   "outputs": [],
   "source": [
    "my_data_dir = r'G:\\My_projects\\Pose_estimation\\data_four_poses'"
   ]
  },
  {
   "cell_type": "code",
   "execution_count": 12,
   "metadata": {},
   "outputs": [
    {
     "data": {
      "text/plain": [
       "['test', 'train']"
      ]
     },
     "execution_count": 12,
     "metadata": {},
     "output_type": "execute_result"
    }
   ],
   "source": [
    "os.listdir(my_data_dir) "
   ]
  },
  {
   "cell_type": "code",
   "execution_count": 13,
   "metadata": {},
   "outputs": [],
   "source": [
    "test_path = my_data_dir+'\\\\test\\\\'\n",
    "train_path = my_data_dir+'\\\\train\\\\'"
   ]
  },
  {
   "cell_type": "code",
   "execution_count": 14,
   "metadata": {},
   "outputs": [
    {
     "data": {
      "text/plain": [
       "['abnormal', 'normal']"
      ]
     },
     "execution_count": 14,
     "metadata": {},
     "output_type": "execute_result"
    }
   ],
   "source": [
    "os.listdir(test_path)"
   ]
  },
  {
   "cell_type": "code",
   "execution_count": 15,
   "metadata": {},
   "outputs": [
    {
     "data": {
      "text/plain": [
       "['abnormal', 'normal']"
      ]
     },
     "execution_count": 15,
     "metadata": {},
     "output_type": "execute_result"
    }
   ],
   "source": [
    "os.listdir(train_path)"
   ]
  },
  {
   "cell_type": "code",
   "execution_count": 16,
   "metadata": {},
   "outputs": [
    {
     "data": {
      "text/plain": [
       "'Image0.png'"
      ]
     },
     "execution_count": 16,
     "metadata": {},
     "output_type": "execute_result"
    }
   ],
   "source": [
    "os.listdir(train_path+'\\\\normal')[0]"
   ]
  },
  {
   "cell_type": "code",
   "execution_count": 17,
   "metadata": {},
   "outputs": [],
   "source": [
    "stick_figure = train_path+'\\\\normal'+'\\\\Image0.png'"
   ]
  },
  {
   "cell_type": "code",
   "execution_count": 18,
   "metadata": {},
   "outputs": [],
   "source": [
    "stick_fig_img = imread(stick_figure)"
   ]
  },
  {
   "cell_type": "code",
   "execution_count": 19,
   "metadata": {},
   "outputs": [
    {
     "data": {
      "text/plain": [
       "<matplotlib.image.AxesImage at 0x124b6391648>"
      ]
     },
     "execution_count": 19,
     "metadata": {},
     "output_type": "execute_result"
    },
    {
     "data": {
      "image/png": "[encoded data removed]",
      "text/plain": [
       "<Figure size 432x288 with 1 Axes>"
      ]
     },
     "metadata": {
      "needs_background": "light"
     },
     "output_type": "display_data"
    }
   ],
   "source": [
    "plt.imshow(stick_fig_img)"
   ]
  },
  {
   "cell_type": "code",
   "execution_count": 20,
   "metadata": {},
   "outputs": [
    {
     "data": {
      "text/plain": [
       "(392, 121, 3)"
      ]
     },
     "execution_count": 20,
     "metadata": {},
     "output_type": "execute_result"
    }
   ],
   "source": [
    "stick_fig_img.shape"
   ]
  },
  {
   "cell_type": "code",
   "execution_count": 22,
   "metadata": {},
   "outputs": [
    {
     "data": {
      "text/plain": [
       "781"
      ]
     },
     "execution_count": 22,
     "metadata": {},
     "output_type": "execute_result"
    }
   ],
   "source": [
    "len(os.listdir(train_path+'\\\\normal'))"
   ]
  },
  {
   "cell_type": "code",
   "execution_count": 23,
   "metadata": {},
   "outputs": [
    {
     "data": {
      "text/plain": [
       "760"
      ]
     },
     "execution_count": 23,
     "metadata": {},
     "output_type": "execute_result"
    }
   ],
   "source": [
    "len(os.listdir(train_path+'\\\\abnormal'))"
   ]
  },
  {
   "cell_type": "code",
   "execution_count": 24,
   "metadata": {},
   "outputs": [],
   "source": [
    "dim1 = []\n",
    "dim2 = []\n",
    "for image_filename in os.listdir(test_path+'\\\\normal'):\n",
    "    \n",
    "    img = imread(test_path+'\\\\normal'+'\\\\'+image_filename)\n",
    "    d1,d2,colors = img.shape\n",
    "    dim1.append(d1)\n",
    "    dim2.append(d2)"
   ]
  },
  {
   "cell_type": "code",
   "execution_count": 25,
   "metadata": {},
   "outputs": [
    {
     "data": {
      "text/plain": [
       "<seaborn.axisgrid.JointGrid at 0x124b64cf8c8>"
      ]
     },
     "execution_count": 25,
     "metadata": {},
     "output_type": "execute_result"
    },
    {
     "data": {
      "image/png": "[encoded data removed]",
      "text/plain": [
       "<Figure size 432x432 with 3 Axes>"
      ]
     },
     "metadata": {
      "needs_background": "light"
     },
     "output_type": "display_data"
    }
   ],
   "source": [
    "sns.jointplot(dim1,dim2)"
   ]
  },
  {
   "cell_type": "code",
   "execution_count": 26,
   "metadata": {},
   "outputs": [
    {
     "data": {
      "text/plain": [
       "298.2048192771084"
      ]
     },
     "execution_count": 26,
     "metadata": {},
     "output_type": "execute_result"
    }
   ],
   "source": [
    "np.mean(dim1)"
   ]
  },
  {
   "cell_type": "code",
   "execution_count": 27,
   "metadata": {},
   "outputs": [
    {
     "data": {
      "text/plain": [
       "103.8273092369478"
      ]
     },
     "execution_count": 27,
     "metadata": {},
     "output_type": "execute_result"
    }
   ],
   "source": [
    "np.mean(dim2)"
   ]
  },
  {
   "cell_type": "code",
   "execution_count": 30,
   "metadata": {},
   "outputs": [],
   "source": [
    "image_shape = (300,105,3)"
   ]
  },
  {
   "cell_type": "code",
   "execution_count": 32,
   "metadata": {},
   "outputs": [],
   "source": [
    "from tensorflow.keras.preprocessing.image import ImageDataGenerator"
   ]
  },
  {
   "cell_type": "code",
   "execution_count": 33,
   "metadata": {},
   "outputs": [],
   "source": [
    "image_gen = ImageDataGenerator(rotation_range=0, # rotate the image 20 degrees\n",
    "                               width_shift_range=0.10, # Shift the pic width by a max of 5%\n",
    "                               height_shift_range=0.10, # Shift the pic height by a max of 5%\n",
    "                               rescale=1/255, # Rescale the image by normalzing it.\n",
    "                               shear_range=0.1, # Shear means cutting away part of the image (max 10%)\n",
    "                               zoom_range=0.1, # Zoom in by 10% max\n",
    "                               horizontal_flip=True, # Allo horizontal flipping\n",
    "                               fill_mode='nearest' # Fill in missing pixels with the nearest filled value\n",
    "                              )"
   ]
  },
  {
   "cell_type": "code",
   "execution_count": 34,
   "metadata": {},
   "outputs": [
    {
     "data": {
      "text/plain": [
       "<matplotlib.image.AxesImage at 0x124bb3a8b88>"
      ]
     },
     "execution_count": 34,
     "metadata": {},
     "output_type": "execute_result"
    },
    {
     "data": {
      "image/png": "[encoded data removed]",
      "text/plain": [
       "<Figure size 432x288 with 1 Axes>"
      ]
     },
     "metadata": {
      "needs_background": "light"
     },
     "output_type": "display_data"
    }
   ],
   "source": [
    "plt.imshow(stick_fig_img)"
   ]
  },
  {
   "cell_type": "code",
   "execution_count": 35,
   "metadata": {},
   "outputs": [
    {
     "data": {
      "text/plain": [
       "<matplotlib.image.AxesImage at 0x124bb3e8fc8>"
      ]
     },
     "execution_count": 35,
     "metadata": {},
     "output_type": "execute_result"
    },
    {
     "data": {
      "image/png": "[encoded data removed]",
      "text/plain": [
       "<Figure size 432x288 with 1 Axes>"
      ]
     },
     "metadata": {
      "needs_background": "light"
     },
     "output_type": "display_data"
    }
   ],
   "source": [
    "plt.imshow(image_gen.random_transform(stick_fig_img))"
   ]
  },
  {
   "cell_type": "code",
   "execution_count": 36,
   "metadata": {},
   "outputs": [
    {
     "data": {
      "text/plain": [
       "<matplotlib.image.AxesImage at 0x124bb4695c8>"
      ]
     },
     "execution_count": 36,
     "metadata": {},
     "output_type": "execute_result"
    },
    {
     "data": {
      "image/png": "[encoded data removed]",
      "text/plain": [
       "<Figure size 432x288 with 1 Axes>"
      ]
     },
     "metadata": {
      "needs_background": "light"
     },
     "output_type": "display_data"
    }
   ],
   "source": [
    "plt.imshow(image_gen.random_transform(stick_fig_img))"
   ]
  },
  {
   "cell_type": "code",
   "execution_count": 37,
   "metadata": {},
   "outputs": [
    {
     "name": "stdout",
     "output_type": "stream",
     "text": [
      "Found 1541 images belonging to 2 classes.\n"
     ]
    },
    {
     "data": {
      "text/plain": [
       "<keras_preprocessing.image.directory_iterator.DirectoryIterator at 0x124bb4a0fc8>"
      ]
     },
     "execution_count": 37,
     "metadata": {},
     "output_type": "execute_result"
    }
   ],
   "source": [
    "image_gen.flow_from_directory(train_path)"
   ]
  },
  {
   "cell_type": "code",
   "execution_count": 38,
   "metadata": {},
   "outputs": [
    {
     "name": "stdout",
     "output_type": "stream",
     "text": [
      "Found 583 images belonging to 2 classes.\n"
     ]
    },
    {
     "data": {
      "text/plain": [
       "<keras_preprocessing.image.directory_iterator.DirectoryIterator at 0x124bb48ed08>"
      ]
     },
     "execution_count": 38,
     "metadata": {},
     "output_type": "execute_result"
    }
   ],
   "source": [
    "image_gen.flow_from_directory(test_path)"
   ]
  },
  {
   "cell_type": "code",
   "execution_count": 39,
   "metadata": {},
   "outputs": [],
   "source": [
    "from tensorflow.keras.models import Sequential\n",
    "from tensorflow.keras.layers import Activation, Dropout, Flatten, Dense, Conv2D, MaxPooling2D"
   ]
  },
  {
   "cell_type": "code",
   "execution_count": 42,
   "metadata": {},
   "outputs": [],
   "source": [
    "model = Sequential()\n",
    "\n",
    "model.add(Conv2D(filters=32, kernel_size=(3,3),input_shape=image_shape, activation='relu',))\n",
    "model.add(MaxPooling2D(pool_size=(2, 2)))\n",
    "\n",
    "model.add(Conv2D(filters=64, kernel_size=(3,3),input_shape=image_shape, activation='relu',))\n",
    "model.add(MaxPooling2D(pool_size=(2, 2)))\n",
    "\n",
    "model.add(Conv2D(filters=64, kernel_size=(3,3),input_shape=image_shape, activation='relu',))\n",
    "model.add(MaxPooling2D(pool_size=(2, 2)))\n",
    "\n",
    "\n",
    "model.add(Flatten())\n",
    "\n",
    "\n",
    "model.add(Dense(128))\n",
    "model.add(Activation('relu'))\n",
    "\n",
    "# Dropouts help reduce overfitting by randomly turning neurons off during training.\n",
    "# Here we say randomly turn off 50% of neurons.\n",
    "model.add(Dropout(0.5))\n",
    "\n",
    "# Last layer, remember its binary so we use sigmoid\n",
    "model.add(Dense(1))\n",
    "model.add(Activation('sigmoid'))\n",
    "\n",
    "model.compile(loss='binary_crossentropy',\n",
    "              optimizer='adam',\n",
    "              metrics=['accuracy'])"
   ]
  },
  {
   "cell_type": "code",
   "execution_count": 43,
   "metadata": {},
   "outputs": [
    {
     "name": "stdout",
     "output_type": "stream",
     "text": [
      "Model: \"sequential_1\"\n",
      "_________________________________________________________________\n",
      "Layer (type)                 Output Shape              Param #   \n",
      "=================================================================\n",
      "conv2d_3 (Conv2D)            (None, 298, 103, 32)      896       \n",
      "_________________________________________________________________\n",
      "max_pooling2d_3 (MaxPooling2 (None, 149, 51, 32)       0         \n",
      "_________________________________________________________________\n",
      "conv2d_4 (Conv2D)            (None, 147, 49, 64)       18496     \n",
      "_________________________________________________________________\n",
      "max_pooling2d_4 (MaxPooling2 (None, 73, 24, 64)        0         \n",
      "_________________________________________________________________\n",
      "conv2d_5 (Conv2D)            (None, 71, 22, 64)        36928     \n",
      "_________________________________________________________________\n",
      "max_pooling2d_5 (MaxPooling2 (None, 35, 11, 64)        0         \n",
      "_________________________________________________________________\n",
      "flatten_1 (Flatten)          (None, 24640)             0         \n",
      "_________________________________________________________________\n",
      "dense_2 (Dense)              (None, 128)               3154048   \n",
      "_________________________________________________________________\n",
      "activation_2 (Activation)    (None, 128)               0         \n",
      "_________________________________________________________________\n",
      "dropout_1 (Dropout)          (None, 128)               0         \n",
      "_________________________________________________________________\n",
      "dense_3 (Dense)              (None, 1)                 129       \n",
      "_________________________________________________________________\n",
      "activation_3 (Activation)    (None, 1)                 0         \n",
      "=================================================================\n",
      "Total params: 3,210,497\n",
      "Trainable params: 3,210,497\n",
      "Non-trainable params: 0\n",
      "_________________________________________________________________\n"
     ]
    }
   ],
   "source": [
    "model.summary()"
   ]
  },
  {
   "cell_type": "code",
   "execution_count": 44,
   "metadata": {},
   "outputs": [],
   "source": [
    "from tensorflow.keras.callbacks import EarlyStopping"
   ]
  },
  {
   "cell_type": "code",
   "execution_count": 45,
   "metadata": {},
   "outputs": [],
   "source": [
    "early_stop = EarlyStopping(monitor='val_loss',patience=2)"
   ]
  },
  {
   "cell_type": "code",
   "execution_count": 46,
   "metadata": {},
   "outputs": [],
   "source": [
    "batch_size = 16"
   ]
  },
  {
   "cell_type": "code",
   "execution_count": 47,
   "metadata": {},
   "outputs": [
    {
     "name": "stdout",
     "output_type": "stream",
     "text": [
      "Found 1541 images belonging to 2 classes.\n"
     ]
    }
   ],
   "source": [
    "train_image_gen = image_gen.flow_from_directory(train_path,\n",
    "                                               target_size=image_shape[:2],\n",
    "                                                color_mode='rgb',\n",
    "                                               batch_size=batch_size,\n",
    "                                               class_mode='binary')"
   ]
  },
  {
   "cell_type": "code",
   "execution_count": 48,
   "metadata": {},
   "outputs": [
    {
     "name": "stdout",
     "output_type": "stream",
     "text": [
      "Found 583 images belonging to 2 classes.\n"
     ]
    }
   ],
   "source": [
    "test_image_gen = image_gen.flow_from_directory(test_path,\n",
    "                                               target_size=image_shape[:2],\n",
    "                                               color_mode='rgb',\n",
    "                                               batch_size=batch_size,\n",
    "                                               class_mode='binary',shuffle=False)"
   ]
  },
  {
   "cell_type": "code",
   "execution_count": 49,
   "metadata": {},
   "outputs": [
    {
     "data": {
      "text/plain": [
       "{'abnormal': 0, 'normal': 1}"
      ]
     },
     "execution_count": 49,
     "metadata": {},
     "output_type": "execute_result"
    }
   ],
   "source": [
    "train_image_gen.class_indices"
   ]
  },
  {
   "cell_type": "code",
   "execution_count": 50,
   "metadata": {},
   "outputs": [],
   "source": [
    "import warnings\n",
    "warnings.filterwarnings('ignore')"
   ]
  },
  {
   "cell_type": "code",
   "execution_count": 51,
   "metadata": {},
   "outputs": [
    {
     "name": "stdout",
     "output_type": "stream",
     "text": [
      "Epoch 1/20\n",
      "97/97 [==============================] - 55s 570ms/step - loss: 0.3499 - acc: 0.8566 - val_loss: 0.2486 - val_acc: 0.9091\n",
      "Epoch 2/20\n",
      "97/97 [==============================] - 54s 557ms/step - loss: 0.2453 - acc: 0.9007 - val_loss: 0.1597 - val_acc: 0.9348\n",
      "Epoch 3/20\n",
      "97/97 [==============================] - 55s 564ms/step - loss: 0.1976 - acc: 0.9215 - val_loss: 0.1442 - val_acc: 0.9451\n",
      "Epoch 4/20\n",
      "97/97 [==============================] - 54s 558ms/step - loss: 0.1493 - acc: 0.9442 - val_loss: 0.1814 - val_acc: 0.9177\n",
      "Epoch 5/20\n",
      "97/97 [==============================] - 53s 548ms/step - loss: 0.1382 - acc: 0.9539 - val_loss: 0.1372 - val_acc: 0.9485\n",
      "Epoch 6/20\n",
      "97/97 [==============================] - 53s 550ms/step - loss: 0.1313 - acc: 0.9533 - val_loss: 0.1063 - val_acc: 0.9571\n",
      "Epoch 7/20\n",
      "97/97 [==============================] - 53s 550ms/step - loss: 0.1072 - acc: 0.9591 - val_loss: 0.0749 - val_acc: 0.9708\n",
      "Epoch 8/20\n",
      "97/97 [==============================] - 53s 549ms/step - loss: 0.0929 - acc: 0.9663 - val_loss: 0.0627 - val_acc: 0.9777\n",
      "Epoch 9/20\n",
      "97/97 [==============================] - 55s 562ms/step - loss: 0.0885 - acc: 0.9669 - val_loss: 0.0811 - val_acc: 0.9691\n",
      "Epoch 10/20\n",
      "97/97 [==============================] - 54s 555ms/step - loss: 0.0717 - acc: 0.9740 - val_loss: 0.0671 - val_acc: 0.9760\n"
     ]
    }
   ],
   "source": [
    "results = model.fit_generator(train_image_gen,epochs=20,\n",
    "                              validation_data=test_image_gen,\n",
    "                             callbacks=[early_stop])"
   ]
  },
  {
   "cell_type": "code",
   "execution_count": 52,
   "metadata": {},
   "outputs": [],
   "source": [
    "from tensorflow.keras.models import load_model\n",
    "model.save('stick_figure_CNN1.h5')"
   ]
  },
  {
   "cell_type": "code",
   "execution_count": 53,
   "metadata": {},
   "outputs": [],
   "source": [
    "losses = pd.DataFrame(model.history.history)"
   ]
  },
  {
   "cell_type": "code",
   "execution_count": 54,
   "metadata": {},
   "outputs": [
    {
     "data": {
      "text/plain": [
       "<matplotlib.axes._subplots.AxesSubplot at 0x124bc14ab88>"
      ]
     },
     "execution_count": 54,
     "metadata": {},
     "output_type": "execute_result"
    },
    {
     "data": {
      "image/png": "[encoded data removed]",
      "text/plain": [
       "<Figure size 432x288 with 1 Axes>"
      ]
     },
     "metadata": {
      "needs_background": "light"
     },
     "output_type": "display_data"
    }
   ],
   "source": [
    "losses[['loss','val_loss']].plot()"
   ]
  },
  {
   "cell_type": "code",
   "execution_count": 55,
   "metadata": {},
   "outputs": [
    {
     "data": {
      "text/plain": [
       "['loss', 'acc']"
      ]
     },
     "execution_count": 55,
     "metadata": {},
     "output_type": "execute_result"
    }
   ],
   "source": [
    "model.metrics_names"
   ]
  },
  {
   "cell_type": "code",
   "execution_count": 56,
   "metadata": {},
   "outputs": [
    {
     "data": {
      "text/plain": [
       "[0.05778579966195016, 0.98284733]"
      ]
     },
     "execution_count": 56,
     "metadata": {},
     "output_type": "execute_result"
    }
   ],
   "source": [
    "model.evaluate_generator(test_image_gen)"
   ]
  },
  {
   "cell_type": "code",
   "execution_count": 57,
   "metadata": {},
   "outputs": [],
   "source": [
    "from tensorflow.keras.preprocessing import image"
   ]
  },
  {
   "cell_type": "code",
   "execution_count": 58,
   "metadata": {},
   "outputs": [],
   "source": [
    "pred_probabilities = model.predict_generator(test_image_gen)"
   ]
  },
  {
   "cell_type": "code",
   "execution_count": 59,
   "metadata": {},
   "outputs": [
    {
     "data": {
      "text/plain": [
       "array([[2.04145908e-05],\n",
       "       [2.56612897e-03],\n",
       "       [2.13050842e-03],\n",
       "       [2.08616257e-07],\n",
       "       [1.73163682e-01],\n",
       "       [4.47034836e-07],\n",
       "       [1.08629465e-04],\n",
       "       [2.80141830e-06],\n",
       "       [2.10404396e-05],\n",
       "       [5.98033726e-01],\n",
       "       [6.56219065e-01],\n",
       "       [1.13056511e-01],\n",
       "       [1.74013972e-02],\n",
       "       [3.18980217e-03],\n",
       "       [1.86821789e-01],\n",
       "       [5.73302507e-02],\n",
       "       [2.84144282e-03],\n",
       "       [6.55651093e-04],\n",
       "       [1.31964684e-04],\n",
       "       [7.93012142e-01],\n",
       "       [1.14965439e-03],\n",
       "       [8.22973549e-02],\n",
       "       [7.86781311e-06],\n",
       "       [1.56962872e-03],\n",
       "       [9.08970833e-05],\n",
       "       [1.42899454e-02],\n",
       "       [5.31196594e-04],\n",
       "       [9.47713852e-06],\n",
       "       [6.84559345e-04],\n",
       "       [4.17232513e-07],\n",
       "       [1.01506710e-04],\n",
       "       [9.34898853e-04],\n",
       "       [5.96046448e-08],\n",
       "       [2.02932954e-03],\n",
       "       [9.99207497e-02],\n",
       "       [1.99466944e-04],\n",
       "       [4.52995300e-06],\n",
       "       [1.60664320e-04],\n",
       "       [7.41485715e-01],\n",
       "       [6.92921877e-03],\n",
       "       [3.92846167e-01],\n",
       "       [4.23192978e-06],\n",
       "       [9.94219184e-02],\n",
       "       [7.89433718e-03],\n",
       "       [7.05836415e-02],\n",
       "       [5.69909811e-04],\n",
       "       [6.19292259e-04],\n",
       "       [1.59442425e-05],\n",
       "       [4.85777855e-06],\n",
       "       [7.92139769e-03],\n",
       "       [3.66640091e-03],\n",
       "       [4.97698784e-06],\n",
       "       [1.62422657e-05],\n",
       "       [2.26795673e-05],\n",
       "       [7.30156898e-04],\n",
       "       [5.66244125e-07],\n",
       "       [3.27825546e-07],\n",
       "       [5.51879406e-04],\n",
       "       [8.94069672e-08],\n",
       "       [2.87592411e-05],\n",
       "       [2.47359276e-06],\n",
       "       [6.16908073e-06],\n",
       "       [1.19507313e-05],\n",
       "       [6.75252080e-03],\n",
       "       [1.75039470e-02],\n",
       "       [4.16857004e-03],\n",
       "       [5.06639481e-07],\n",
       "       [0.00000000e+00],\n",
       "       [6.82473183e-06],\n",
       "       [1.78813934e-07],\n",
       "       [0.00000000e+00],\n",
       "       [7.50190020e-03],\n",
       "       [5.96046448e-08],\n",
       "       [2.26199627e-05],\n",
       "       [2.98023224e-07],\n",
       "       [0.00000000e+00],\n",
       "       [8.36580992e-04],\n",
       "       [4.36902046e-05],\n",
       "       [5.96046448e-08],\n",
       "       [1.34110451e-06],\n",
       "       [5.96046448e-08],\n",
       "       [0.00000000e+00],\n",
       "       [1.01327896e-06],\n",
       "       [2.92905688e-01],\n",
       "       [0.00000000e+00],\n",
       "       [0.00000000e+00],\n",
       "       [0.00000000e+00],\n",
       "       [7.10785389e-05],\n",
       "       [4.89085913e-04],\n",
       "       [1.02698803e-04],\n",
       "       [3.48210335e-04],\n",
       "       [4.39792871e-04],\n",
       "       [5.67916036e-03],\n",
       "       [5.17797172e-02],\n",
       "       [1.48841739e-03],\n",
       "       [7.15255737e-07],\n",
       "       [1.53142214e-03],\n",
       "       [2.61327624e-03],\n",
       "       [8.40049982e-03],\n",
       "       [5.54323196e-06],\n",
       "       [1.40070915e-05],\n",
       "       [4.42045927e-03],\n",
       "       [2.57790089e-05],\n",
       "       [0.00000000e+00],\n",
       "       [8.94069672e-08],\n",
       "       [2.36034393e-05],\n",
       "       [0.00000000e+00],\n",
       "       [5.96046448e-08],\n",
       "       [1.19209290e-07],\n",
       "       [9.23871994e-07],\n",
       "       [0.00000000e+00],\n",
       "       [0.00000000e+00],\n",
       "       [6.31981075e-01],\n",
       "       [1.63912773e-06],\n",
       "       [0.00000000e+00],\n",
       "       [0.00000000e+00],\n",
       "       [0.00000000e+00],\n",
       "       [1.66624784e-04],\n",
       "       [5.36441803e-07],\n",
       "       [0.00000000e+00],\n",
       "       [0.00000000e+00],\n",
       "       [2.98023224e-08],\n",
       "       [4.93884087e-04],\n",
       "       [1.15236640e-03],\n",
       "       [1.86398625e-03],\n",
       "       [1.04308128e-06],\n",
       "       [2.68220901e-07],\n",
       "       [0.00000000e+00],\n",
       "       [5.96046448e-08],\n",
       "       [1.00731850e-04],\n",
       "       [0.00000000e+00],\n",
       "       [2.08616257e-07],\n",
       "       [0.00000000e+00],\n",
       "       [1.85668468e-05],\n",
       "       [1.78813934e-07],\n",
       "       [2.14576721e-06],\n",
       "       [1.93648934e-02],\n",
       "       [5.72204590e-06],\n",
       "       [0.00000000e+00],\n",
       "       [0.00000000e+00],\n",
       "       [0.00000000e+00],\n",
       "       [1.10461414e-02],\n",
       "       [5.66244125e-07],\n",
       "       [3.84449959e-06],\n",
       "       [0.00000000e+00],\n",
       "       [8.94069672e-08],\n",
       "       [1.57892704e-04],\n",
       "       [3.27825546e-07],\n",
       "       [0.00000000e+00],\n",
       "       [0.00000000e+00],\n",
       "       [3.21865082e-06],\n",
       "       [4.27663326e-05],\n",
       "       [2.75075436e-05],\n",
       "       [1.49011612e-07],\n",
       "       [2.68220901e-07],\n",
       "       [6.39915466e-04],\n",
       "       [6.10947609e-06],\n",
       "       [6.67572021e-06],\n",
       "       [1.39206648e-04],\n",
       "       [1.41859055e-05],\n",
       "       [2.64406204e-04],\n",
       "       [5.30481339e-06],\n",
       "       [1.08979344e-02],\n",
       "       [4.18454409e-04],\n",
       "       [1.31130219e-06],\n",
       "       [6.70850277e-05],\n",
       "       [1.29621029e-02],\n",
       "       [2.28654742e-02],\n",
       "       [1.50799751e-05],\n",
       "       [2.03937292e-04],\n",
       "       [6.85453415e-07],\n",
       "       [1.00135803e-05],\n",
       "       [1.28149986e-06],\n",
       "       [8.94069672e-08],\n",
       "       [9.45329666e-05],\n",
       "       [1.57952309e-06],\n",
       "       [2.20537186e-06],\n",
       "       [1.17719173e-05],\n",
       "       [5.57496607e-01],\n",
       "       [2.38418579e-07],\n",
       "       [7.72896886e-01],\n",
       "       [4.61481154e-01],\n",
       "       [2.30193138e-04],\n",
       "       [3.64929438e-04],\n",
       "       [2.98023224e-07],\n",
       "       [0.00000000e+00],\n",
       "       [2.33352184e-05],\n",
       "       [4.15444374e-05],\n",
       "       [3.87430191e-07],\n",
       "       [4.88460064e-05],\n",
       "       [2.02655792e-06],\n",
       "       [1.10268593e-06],\n",
       "       [5.56409359e-05],\n",
       "       [8.94069672e-08],\n",
       "       [2.98023224e-07],\n",
       "       [1.53481960e-05],\n",
       "       [7.25865364e-04],\n",
       "       [9.23871994e-07],\n",
       "       [3.27825546e-07],\n",
       "       [7.25409985e-02],\n",
       "       [3.60608101e-06],\n",
       "       [1.43736601e-04],\n",
       "       [3.00109386e-05],\n",
       "       [3.83555889e-05],\n",
       "       [1.04993582e-03],\n",
       "       [2.08616257e-07],\n",
       "       [0.00000000e+00],\n",
       "       [1.20401382e-05],\n",
       "       [9.29209590e-03],\n",
       "       [0.00000000e+00],\n",
       "       [2.68220901e-07],\n",
       "       [0.00000000e+00],\n",
       "       [4.67896461e-06],\n",
       "       [1.90734863e-06],\n",
       "       [1.21769309e-03],\n",
       "       [0.00000000e+00],\n",
       "       [1.69873238e-06],\n",
       "       [8.81236434e-01],\n",
       "       [7.56382942e-05],\n",
       "       [4.88758087e-06],\n",
       "       [2.68179655e-01],\n",
       "       [1.85158849e-03],\n",
       "       [7.60442019e-03],\n",
       "       [5.26726246e-04],\n",
       "       [8.26418400e-05],\n",
       "       [8.34167004e-05],\n",
       "       [4.58657742e-05],\n",
       "       [7.47978687e-04],\n",
       "       [1.86797678e-02],\n",
       "       [7.28710294e-02],\n",
       "       [9.67681408e-05],\n",
       "       [1.49011612e-07],\n",
       "       [6.02801859e-01],\n",
       "       [5.19550860e-01],\n",
       "       [2.93314457e-04],\n",
       "       [1.04132295e-03],\n",
       "       [6.79492950e-06],\n",
       "       [0.00000000e+00],\n",
       "       [9.16123390e-05],\n",
       "       [1.01462007e-03],\n",
       "       [3.90352309e-02],\n",
       "       [4.41074371e-05],\n",
       "       [1.08626485e-02],\n",
       "       [1.78813934e-07],\n",
       "       [1.89840794e-05],\n",
       "       [2.08616257e-07],\n",
       "       [2.38269567e-03],\n",
       "       [3.27825546e-07],\n",
       "       [1.78813934e-07],\n",
       "       [1.37984753e-05],\n",
       "       [2.41398811e-05],\n",
       "       [1.29342079e-05],\n",
       "       [1.17719173e-05],\n",
       "       [2.08616257e-07],\n",
       "       [2.29567289e-04],\n",
       "       [3.87430191e-07],\n",
       "       [7.15255737e-06],\n",
       "       [2.53051519e-04],\n",
       "       [1.19209290e-07],\n",
       "       [0.00000000e+00],\n",
       "       [2.02655792e-06],\n",
       "       [1.51991844e-06],\n",
       "       [1.82837248e-04],\n",
       "       [1.10268593e-06],\n",
       "       [1.20699406e-04],\n",
       "       [1.82986259e-05],\n",
       "       [7.57843256e-04],\n",
       "       [7.21126795e-03],\n",
       "       [1.43557787e-04],\n",
       "       [3.43382359e-04],\n",
       "       [6.31542206e-02],\n",
       "       [4.96870279e-03],\n",
       "       [5.49614429e-04],\n",
       "       [9.52383995e-01],\n",
       "       [5.64066768e-01],\n",
       "       [4.71301079e-02],\n",
       "       [7.33950555e-01],\n",
       "       [7.29322910e-01],\n",
       "       [0.00000000e+00],\n",
       "       [1.06692314e-05],\n",
       "       [2.98023224e-08],\n",
       "       [1.98147297e-02],\n",
       "       [2.31266022e-05],\n",
       "       [2.38418579e-07],\n",
       "       [2.07374990e-02],\n",
       "       [0.00000000e+00],\n",
       "       [5.78165054e-06],\n",
       "       [5.92955351e-02],\n",
       "       [8.34465027e-06],\n",
       "       [2.44981050e-03],\n",
       "       [1.81540847e-03],\n",
       "       [2.83122063e-06],\n",
       "       [5.63263893e-06],\n",
       "       [5.32431006e-02],\n",
       "       [2.32833624e-02],\n",
       "       [2.30252743e-04],\n",
       "       [5.60581684e-05],\n",
       "       [5.49132526e-02],\n",
       "       [1.19209290e-07],\n",
       "       [1.70568228e-02],\n",
       "       [8.45678151e-02],\n",
       "       [8.49823475e-01],\n",
       "       [1.30456686e-03],\n",
       "       [7.21961260e-04],\n",
       "       [1.84407294e-01],\n",
       "       [6.42111897e-03],\n",
       "       [4.45246696e-05],\n",
       "       [1.04337931e-04],\n",
       "       [2.48044729e-04],\n",
       "       [2.68220901e-07],\n",
       "       [5.96046448e-08],\n",
       "       [1.91837549e-04],\n",
       "       [3.30060124e-02],\n",
       "       [9.23871994e-07],\n",
       "       [0.00000000e+00],\n",
       "       [4.03771400e-02],\n",
       "       [0.00000000e+00],\n",
       "       [1.32918358e-05],\n",
       "       [5.06639481e-07],\n",
       "       [1.60932541e-06],\n",
       "       [5.76376915e-05],\n",
       "       [0.00000000e+00],\n",
       "       [1.78813934e-07],\n",
       "       [5.60617507e-01],\n",
       "       [1.09374523e-05],\n",
       "       [1.49011612e-06],\n",
       "       [3.27825546e-07],\n",
       "       [4.76837158e-07],\n",
       "       [2.98023224e-07],\n",
       "       [1.99347734e-04],\n",
       "       [5.45305312e-02],\n",
       "       [2.38418579e-07],\n",
       "       [0.00000000e+00],\n",
       "       [2.98023224e-07],\n",
       "       [9.99804974e-01],\n",
       "       [9.99981165e-01],\n",
       "       [9.99910712e-01],\n",
       "       [9.99796033e-01],\n",
       "       [9.99823928e-01],\n",
       "       [9.98578310e-01],\n",
       "       [9.99799728e-01],\n",
       "       [9.93531585e-01],\n",
       "       [9.98275995e-01],\n",
       "       [9.92734492e-01],\n",
       "       [9.99065399e-01],\n",
       "       [9.99213576e-01],\n",
       "       [9.97200072e-01],\n",
       "       [8.02535415e-01],\n",
       "       [9.99924660e-01],\n",
       "       [9.99235451e-01],\n",
       "       [9.97312188e-01],\n",
       "       [9.99834359e-01],\n",
       "       [9.97891665e-01],\n",
       "       [9.99802232e-01],\n",
       "       [9.92278099e-01],\n",
       "       [9.82589960e-01],\n",
       "       [9.99354899e-01],\n",
       "       [9.96983171e-01],\n",
       "       [9.98732686e-01],\n",
       "       [9.91902351e-01],\n",
       "       [9.75607514e-01],\n",
       "       [9.99320507e-01],\n",
       "       [9.68979955e-01],\n",
       "       [9.96989250e-01],\n",
       "       [9.99329925e-01],\n",
       "       [9.91358638e-01],\n",
       "       [9.96228278e-01],\n",
       "       [9.97280240e-01],\n",
       "       [9.99931931e-01],\n",
       "       [9.99960303e-01],\n",
       "       [9.93609786e-01],\n",
       "       [9.09644485e-01],\n",
       "       [9.90972757e-01],\n",
       "       [9.31397796e-01],\n",
       "       [9.91599202e-01],\n",
       "       [9.94771481e-01],\n",
       "       [8.65078926e-01],\n",
       "       [9.98671949e-01],\n",
       "       [9.94404793e-01],\n",
       "       [9.99721885e-01],\n",
       "       [9.99718547e-01],\n",
       "       [9.98965859e-01],\n",
       "       [9.96761501e-01],\n",
       "       [8.87329638e-01],\n",
       "       [9.95631516e-01],\n",
       "       [9.97622967e-01],\n",
       "       [9.94655967e-01],\n",
       "       [9.99478817e-01],\n",
       "       [8.81271362e-01],\n",
       "       [9.72829580e-01],\n",
       "       [9.95102763e-01],\n",
       "       [9.99947667e-01],\n",
       "       [9.99088526e-01],\n",
       "       [9.98387277e-01],\n",
       "       [9.89223957e-01],\n",
       "       [9.97130752e-01],\n",
       "       [9.89628732e-01],\n",
       "       [9.98480976e-01],\n",
       "       [9.99789119e-01],\n",
       "       [9.86642480e-01],\n",
       "       [9.98886228e-01],\n",
       "       [9.54271674e-01],\n",
       "       [9.99832392e-01],\n",
       "       [9.91168141e-01],\n",
       "       [9.99204636e-01],\n",
       "       [9.67401266e-01],\n",
       "       [6.69392645e-01],\n",
       "       [4.98265654e-01],\n",
       "       [9.54335332e-01],\n",
       "       [9.99383032e-01],\n",
       "       [9.99633014e-01],\n",
       "       [7.26397991e-01],\n",
       "       [6.93747580e-01],\n",
       "       [9.99894142e-01],\n",
       "       [9.98679519e-01],\n",
       "       [9.67738569e-01],\n",
       "       [9.85489070e-01],\n",
       "       [9.95981455e-01],\n",
       "       [9.98668611e-01],\n",
       "       [9.80093777e-01],\n",
       "       [9.92900252e-01],\n",
       "       [9.80136633e-01],\n",
       "       [9.26872015e-01],\n",
       "       [9.89638448e-01],\n",
       "       [9.98911023e-01],\n",
       "       [8.75474334e-01],\n",
       "       [9.92636919e-01],\n",
       "       [9.80160594e-01],\n",
       "       [9.99722958e-01],\n",
       "       [9.71596003e-01],\n",
       "       [9.99444842e-01],\n",
       "       [9.87538099e-01],\n",
       "       [9.99876142e-01],\n",
       "       [9.99942958e-01],\n",
       "       [9.99842823e-01],\n",
       "       [9.99796629e-01],\n",
       "       [9.99490559e-01],\n",
       "       [9.99480724e-01],\n",
       "       [9.99344707e-01],\n",
       "       [9.99777913e-01],\n",
       "       [9.99157906e-01],\n",
       "       [9.55951810e-01],\n",
       "       [9.64449048e-01],\n",
       "       [9.94980216e-01],\n",
       "       [9.99677658e-01],\n",
       "       [9.99967098e-01],\n",
       "       [9.99870598e-01],\n",
       "       [9.99862969e-01],\n",
       "       [9.99392688e-01],\n",
       "       [9.99108195e-01],\n",
       "       [8.93234372e-01],\n",
       "       [9.99966800e-01],\n",
       "       [9.99594152e-01],\n",
       "       [9.66565967e-01],\n",
       "       [9.97544169e-01],\n",
       "       [9.84888554e-01],\n",
       "       [9.99953210e-01],\n",
       "       [9.02961969e-01],\n",
       "       [9.99680758e-01],\n",
       "       [9.74124134e-01],\n",
       "       [9.14861798e-01],\n",
       "       [9.99966204e-01],\n",
       "       [9.99976277e-01],\n",
       "       [9.99942303e-01],\n",
       "       [9.99622524e-01],\n",
       "       [9.99936521e-01],\n",
       "       [9.98718977e-01],\n",
       "       [8.18672776e-01],\n",
       "       [9.24448252e-01],\n",
       "       [9.99994636e-01],\n",
       "       [9.83737946e-01],\n",
       "       [9.99019027e-01],\n",
       "       [9.99596238e-01],\n",
       "       [9.99598444e-01],\n",
       "       [9.99916255e-01],\n",
       "       [9.98911142e-01],\n",
       "       [9.97743428e-01],\n",
       "       [9.88587976e-01],\n",
       "       [9.98125315e-01],\n",
       "       [9.98060107e-01],\n",
       "       [9.99790549e-01],\n",
       "       [9.98476982e-01],\n",
       "       [9.99601960e-01],\n",
       "       [9.99668956e-01],\n",
       "       [9.79450464e-01],\n",
       "       [7.08826065e-01],\n",
       "       [9.81149554e-01],\n",
       "       [9.69523907e-01],\n",
       "       [9.99202609e-01],\n",
       "       [9.99310970e-01],\n",
       "       [9.99459505e-01],\n",
       "       [9.99896348e-01],\n",
       "       [9.99029815e-01],\n",
       "       [9.99409735e-01],\n",
       "       [9.95162010e-01],\n",
       "       [9.99993622e-01],\n",
       "       [9.99933481e-01],\n",
       "       [9.99726415e-01],\n",
       "       [9.99123156e-01],\n",
       "       [9.99985993e-01],\n",
       "       [9.99279082e-01],\n",
       "       [9.99890566e-01],\n",
       "       [9.99922752e-01],\n",
       "       [9.99983311e-01],\n",
       "       [9.92866755e-01],\n",
       "       [9.98916507e-01],\n",
       "       [9.99989867e-01],\n",
       "       [9.99834538e-01],\n",
       "       [9.96579349e-01],\n",
       "       [9.85482156e-01],\n",
       "       [9.99983549e-01],\n",
       "       [9.99421477e-01],\n",
       "       [9.98642683e-01],\n",
       "       [9.99963999e-01],\n",
       "       [9.99215722e-01],\n",
       "       [9.94948149e-01],\n",
       "       [9.97566342e-01],\n",
       "       [9.72284317e-01],\n",
       "       [9.99892831e-01],\n",
       "       [9.99790609e-01],\n",
       "       [9.99742270e-01],\n",
       "       [9.99946058e-01],\n",
       "       [9.99942303e-01],\n",
       "       [9.97972369e-01],\n",
       "       [9.99812841e-01],\n",
       "       [8.61506820e-01],\n",
       "       [9.98998344e-01],\n",
       "       [9.95746374e-01],\n",
       "       [9.99942660e-01],\n",
       "       [9.99764562e-01],\n",
       "       [9.99991596e-01],\n",
       "       [9.99810934e-01],\n",
       "       [8.29901695e-01],\n",
       "       [9.99801993e-01],\n",
       "       [9.99976397e-01],\n",
       "       [9.99952793e-01],\n",
       "       [9.99907851e-01],\n",
       "       [9.98999715e-01],\n",
       "       [9.99997735e-01],\n",
       "       [9.99800920e-01],\n",
       "       [9.99877810e-01],\n",
       "       [9.99873281e-01],\n",
       "       [9.99937773e-01],\n",
       "       [9.99928892e-01],\n",
       "       [9.99999642e-01],\n",
       "       [9.99998748e-01],\n",
       "       [9.99671161e-01],\n",
       "       [9.99986470e-01],\n",
       "       [9.99692678e-01],\n",
       "       [9.99906898e-01],\n",
       "       [9.99830425e-01],\n",
       "       [9.99977231e-01],\n",
       "       [9.99987364e-01],\n",
       "       [9.99976277e-01],\n",
       "       [9.97592926e-01],\n",
       "       [9.98120427e-01],\n",
       "       [9.01021957e-01],\n",
       "       [9.99529541e-01],\n",
       "       [9.82486725e-01],\n",
       "       [9.67514038e-01],\n",
       "       [9.99966204e-01],\n",
       "       [9.99992132e-01],\n",
       "       [9.93569374e-01],\n",
       "       [9.99903440e-01],\n",
       "       [9.99779940e-01],\n",
       "       [9.99962032e-01],\n",
       "       [9.99915481e-01],\n",
       "       [9.99970734e-01],\n",
       "       [9.99717116e-01],\n",
       "       [9.99840975e-01],\n",
       "       [9.99399066e-01],\n",
       "       [9.99757648e-01],\n",
       "       [9.99707699e-01],\n",
       "       [9.99548197e-01],\n",
       "       [9.98468399e-01],\n",
       "       [9.99975383e-01],\n",
       "       [9.99666810e-01],\n",
       "       [9.99766946e-01],\n",
       "       [9.85568881e-01],\n",
       "       [9.99939561e-01],\n",
       "       [9.99905229e-01],\n",
       "       [9.99772131e-01],\n",
       "       [9.99444187e-01]], dtype=float32)"
      ]
     },
     "execution_count": 59,
     "metadata": {},
     "output_type": "execute_result"
    }
   ],
   "source": [
    "pred_probabilities"
   ]
  },
  {
   "cell_type": "code",
   "execution_count": 61,
   "metadata": {},
   "outputs": [
    {
     "data": {
      "text/plain": [
       "array([0, 0, 0, 0, 0, 0, 0, 0, 0, 0, 0, 0, 0, 0, 0, 0, 0, 0, 0, 0, 0, 0,\n",
       "       0, 0, 0, 0, 0, 0, 0, 0, 0, 0, 0, 0, 0, 0, 0, 0, 0, 0, 0, 0, 0, 0,\n",
       "       0, 0, 0, 0, 0, 0, 0, 0, 0, 0, 0, 0, 0, 0, 0, 0, 0, 0, 0, 0, 0, 0,\n",
       "       0, 0, 0, 0, 0, 0, 0, 0, 0, 0, 0, 0, 0, 0, 0, 0, 0, 0, 0, 0, 0, 0,\n",
       "       0, 0, 0, 0, 0, 0, 0, 0, 0, 0, 0, 0, 0, 0, 0, 0, 0, 0, 0, 0, 0, 0,\n",
       "       0, 0, 0, 0, 0, 0, 0, 0, 0, 0, 0, 0, 0, 0, 0, 0, 0, 0, 0, 0, 0, 0,\n",
       "       0, 0, 0, 0, 0, 0, 0, 0, 0, 0, 0, 0, 0, 0, 0, 0, 0, 0, 0, 0, 0, 0,\n",
       "       0, 0, 0, 0, 0, 0, 0, 0, 0, 0, 0, 0, 0, 0, 0, 0, 0, 0, 0, 0, 0, 0,\n",
       "       0, 0, 0, 0, 0, 0, 0, 0, 0, 0, 0, 0, 0, 0, 0, 0, 0, 0, 0, 0, 0, 0,\n",
       "       0, 0, 0, 0, 0, 0, 0, 0, 0, 0, 0, 0, 0, 0, 0, 0, 0, 0, 0, 0, 0, 0,\n",
       "       0, 0, 0, 0, 0, 0, 0, 0, 0, 0, 0, 0, 0, 0, 0, 0, 0, 0, 0, 0, 0, 0,\n",
       "       0, 0, 0, 0, 0, 0, 0, 0, 0, 0, 0, 0, 0, 0, 0, 0, 0, 0, 0, 0, 0, 0,\n",
       "       0, 0, 0, 0, 0, 0, 0, 0, 0, 0, 0, 0, 0, 0, 0, 0, 0, 0, 0, 0, 0, 0,\n",
       "       0, 0, 0, 0, 0, 0, 0, 0, 0, 0, 0, 0, 0, 0, 0, 0, 0, 0, 0, 0, 0, 0,\n",
       "       0, 0, 0, 0, 0, 0, 0, 0, 0, 0, 0, 0, 0, 0, 0, 0, 0, 0, 0, 0, 0, 0,\n",
       "       0, 0, 0, 0, 1, 1, 1, 1, 1, 1, 1, 1, 1, 1, 1, 1, 1, 1, 1, 1, 1, 1,\n",
       "       1, 1, 1, 1, 1, 1, 1, 1, 1, 1, 1, 1, 1, 1, 1, 1, 1, 1, 1, 1, 1, 1,\n",
       "       1, 1, 1, 1, 1, 1, 1, 1, 1, 1, 1, 1, 1, 1, 1, 1, 1, 1, 1, 1, 1, 1,\n",
       "       1, 1, 1, 1, 1, 1, 1, 1, 1, 1, 1, 1, 1, 1, 1, 1, 1, 1, 1, 1, 1, 1,\n",
       "       1, 1, 1, 1, 1, 1, 1, 1, 1, 1, 1, 1, 1, 1, 1, 1, 1, 1, 1, 1, 1, 1,\n",
       "       1, 1, 1, 1, 1, 1, 1, 1, 1, 1, 1, 1, 1, 1, 1, 1, 1, 1, 1, 1, 1, 1,\n",
       "       1, 1, 1, 1, 1, 1, 1, 1, 1, 1, 1, 1, 1, 1, 1, 1, 1, 1, 1, 1, 1, 1,\n",
       "       1, 1, 1, 1, 1, 1, 1, 1, 1, 1, 1, 1, 1, 1, 1, 1, 1, 1, 1, 1, 1, 1,\n",
       "       1, 1, 1, 1, 1, 1, 1, 1, 1, 1, 1, 1, 1, 1, 1, 1, 1, 1, 1, 1, 1, 1,\n",
       "       1, 1, 1, 1, 1, 1, 1, 1, 1, 1, 1, 1, 1, 1, 1, 1, 1, 1, 1, 1, 1, 1,\n",
       "       1, 1, 1, 1, 1, 1, 1, 1, 1, 1, 1, 1, 1, 1, 1, 1, 1, 1, 1, 1, 1, 1,\n",
       "       1, 1, 1, 1, 1, 1, 1, 1, 1, 1, 1])"
      ]
     },
     "execution_count": 61,
     "metadata": {},
     "output_type": "execute_result"
    }
   ],
   "source": [
    "test_image_gen.classes"
   ]
  },
  {
   "cell_type": "code",
   "execution_count": 62,
   "metadata": {},
   "outputs": [],
   "source": [
    "predictions = pred_probabilities > 0.5"
   ]
  },
  {
   "cell_type": "code",
   "execution_count": 63,
   "metadata": {},
   "outputs": [
    {
     "data": {
      "text/plain": [
       "array([[False],\n",
       "       [False],\n",
       "       [False],\n",
       "       [False],\n",
       "       [False],\n",
       "       [False],\n",
       "       [False],\n",
       "       [False],\n",
       "       [False],\n",
       "       [ True],\n",
       "       [ True],\n",
       "       [False],\n",
       "       [False],\n",
       "       [False],\n",
       "       [False],\n",
       "       [False],\n",
       "       [False],\n",
       "       [False],\n",
       "       [False],\n",
       "       [ True],\n",
       "       [False],\n",
       "       [False],\n",
       "       [False],\n",
       "       [False],\n",
       "       [False],\n",
       "       [False],\n",
       "       [False],\n",
       "       [False],\n",
       "       [False],\n",
       "       [False],\n",
       "       [False],\n",
       "       [False],\n",
       "       [False],\n",
       "       [False],\n",
       "       [False],\n",
       "       [False],\n",
       "       [False],\n",
       "       [False],\n",
       "       [ True],\n",
       "       [False],\n",
       "       [False],\n",
       "       [False],\n",
       "       [False],\n",
       "       [False],\n",
       "       [False],\n",
       "       [False],\n",
       "       [False],\n",
       "       [False],\n",
       "       [False],\n",
       "       [False],\n",
       "       [False],\n",
       "       [False],\n",
       "       [False],\n",
       "       [False],\n",
       "       [False],\n",
       "       [False],\n",
       "       [False],\n",
       "       [False],\n",
       "       [False],\n",
       "       [False],\n",
       "       [False],\n",
       "       [False],\n",
       "       [False],\n",
       "       [False],\n",
       "       [False],\n",
       "       [False],\n",
       "       [False],\n",
       "       [False],\n",
       "       [False],\n",
       "       [False],\n",
       "       [False],\n",
       "       [False],\n",
       "       [False],\n",
       "       [False],\n",
       "       [False],\n",
       "       [False],\n",
       "       [False],\n",
       "       [False],\n",
       "       [False],\n",
       "       [False],\n",
       "       [False],\n",
       "       [False],\n",
       "       [False],\n",
       "       [False],\n",
       "       [False],\n",
       "       [False],\n",
       "       [False],\n",
       "       [False],\n",
       "       [False],\n",
       "       [False],\n",
       "       [False],\n",
       "       [False],\n",
       "       [False],\n",
       "       [False],\n",
       "       [False],\n",
       "       [False],\n",
       "       [False],\n",
       "       [False],\n",
       "       [False],\n",
       "       [False],\n",
       "       [False],\n",
       "       [False],\n",
       "       [False],\n",
       "       [False],\n",
       "       [False],\n",
       "       [False],\n",
       "       [False],\n",
       "       [False],\n",
       "       [False],\n",
       "       [False],\n",
       "       [False],\n",
       "       [False],\n",
       "       [ True],\n",
       "       [False],\n",
       "       [False],\n",
       "       [False],\n",
       "       [False],\n",
       "       [False],\n",
       "       [False],\n",
       "       [False],\n",
       "       [False],\n",
       "       [False],\n",
       "       [False],\n",
       "       [False],\n",
       "       [False],\n",
       "       [False],\n",
       "       [False],\n",
       "       [False],\n",
       "       [False],\n",
       "       [False],\n",
       "       [False],\n",
       "       [False],\n",
       "       [False],\n",
       "       [False],\n",
       "       [False],\n",
       "       [False],\n",
       "       [False],\n",
       "       [False],\n",
       "       [False],\n",
       "       [False],\n",
       "       [False],\n",
       "       [False],\n",
       "       [False],\n",
       "       [False],\n",
       "       [False],\n",
       "       [False],\n",
       "       [False],\n",
       "       [False],\n",
       "       [False],\n",
       "       [False],\n",
       "       [False],\n",
       "       [False],\n",
       "       [False],\n",
       "       [False],\n",
       "       [False],\n",
       "       [False],\n",
       "       [False],\n",
       "       [False],\n",
       "       [False],\n",
       "       [False],\n",
       "       [False],\n",
       "       [False],\n",
       "       [False],\n",
       "       [False],\n",
       "       [False],\n",
       "       [False],\n",
       "       [False],\n",
       "       [False],\n",
       "       [False],\n",
       "       [False],\n",
       "       [False],\n",
       "       [False],\n",
       "       [False],\n",
       "       [False],\n",
       "       [False],\n",
       "       [False],\n",
       "       [False],\n",
       "       [False],\n",
       "       [ True],\n",
       "       [False],\n",
       "       [ True],\n",
       "       [False],\n",
       "       [False],\n",
       "       [False],\n",
       "       [False],\n",
       "       [False],\n",
       "       [False],\n",
       "       [False],\n",
       "       [False],\n",
       "       [False],\n",
       "       [False],\n",
       "       [False],\n",
       "       [False],\n",
       "       [False],\n",
       "       [False],\n",
       "       [False],\n",
       "       [False],\n",
       "       [False],\n",
       "       [False],\n",
       "       [False],\n",
       "       [False],\n",
       "       [False],\n",
       "       [False],\n",
       "       [False],\n",
       "       [False],\n",
       "       [False],\n",
       "       [False],\n",
       "       [False],\n",
       "       [False],\n",
       "       [False],\n",
       "       [False],\n",
       "       [False],\n",
       "       [False],\n",
       "       [False],\n",
       "       [False],\n",
       "       [False],\n",
       "       [False],\n",
       "       [ True],\n",
       "       [False],\n",
       "       [False],\n",
       "       [False],\n",
       "       [False],\n",
       "       [False],\n",
       "       [False],\n",
       "       [False],\n",
       "       [False],\n",
       "       [False],\n",
       "       [False],\n",
       "       [False],\n",
       "       [False],\n",
       "       [False],\n",
       "       [False],\n",
       "       [ True],\n",
       "       [ True],\n",
       "       [False],\n",
       "       [False],\n",
       "       [False],\n",
       "       [False],\n",
       "       [False],\n",
       "       [False],\n",
       "       [False],\n",
       "       [False],\n",
       "       [False],\n",
       "       [False],\n",
       "       [False],\n",
       "       [False],\n",
       "       [False],\n",
       "       [False],\n",
       "       [False],\n",
       "       [False],\n",
       "       [False],\n",
       "       [False],\n",
       "       [False],\n",
       "       [False],\n",
       "       [False],\n",
       "       [False],\n",
       "       [False],\n",
       "       [False],\n",
       "       [False],\n",
       "       [False],\n",
       "       [False],\n",
       "       [False],\n",
       "       [False],\n",
       "       [False],\n",
       "       [False],\n",
       "       [False],\n",
       "       [False],\n",
       "       [False],\n",
       "       [False],\n",
       "       [False],\n",
       "       [False],\n",
       "       [False],\n",
       "       [False],\n",
       "       [ True],\n",
       "       [ True],\n",
       "       [False],\n",
       "       [ True],\n",
       "       [ True],\n",
       "       [False],\n",
       "       [False],\n",
       "       [False],\n",
       "       [False],\n",
       "       [False],\n",
       "       [False],\n",
       "       [False],\n",
       "       [False],\n",
       "       [False],\n",
       "       [False],\n",
       "       [False],\n",
       "       [False],\n",
       "       [False],\n",
       "       [False],\n",
       "       [False],\n",
       "       [False],\n",
       "       [False],\n",
       "       [False],\n",
       "       [False],\n",
       "       [False],\n",
       "       [False],\n",
       "       [False],\n",
       "       [False],\n",
       "       [ True],\n",
       "       [False],\n",
       "       [False],\n",
       "       [False],\n",
       "       [False],\n",
       "       [False],\n",
       "       [False],\n",
       "       [False],\n",
       "       [False],\n",
       "       [False],\n",
       "       [False],\n",
       "       [False],\n",
       "       [False],\n",
       "       [False],\n",
       "       [False],\n",
       "       [False],\n",
       "       [False],\n",
       "       [False],\n",
       "       [False],\n",
       "       [False],\n",
       "       [False],\n",
       "       [False],\n",
       "       [ True],\n",
       "       [False],\n",
       "       [False],\n",
       "       [False],\n",
       "       [False],\n",
       "       [False],\n",
       "       [False],\n",
       "       [False],\n",
       "       [False],\n",
       "       [False],\n",
       "       [False],\n",
       "       [ True],\n",
       "       [ True],\n",
       "       [ True],\n",
       "       [ True],\n",
       "       [ True],\n",
       "       [ True],\n",
       "       [ True],\n",
       "       [ True],\n",
       "       [ True],\n",
       "       [ True],\n",
       "       [ True],\n",
       "       [ True],\n",
       "       [ True],\n",
       "       [ True],\n",
       "       [ True],\n",
       "       [ True],\n",
       "       [ True],\n",
       "       [ True],\n",
       "       [ True],\n",
       "       [ True],\n",
       "       [ True],\n",
       "       [ True],\n",
       "       [ True],\n",
       "       [ True],\n",
       "       [ True],\n",
       "       [ True],\n",
       "       [ True],\n",
       "       [ True],\n",
       "       [ True],\n",
       "       [ True],\n",
       "       [ True],\n",
       "       [ True],\n",
       "       [ True],\n",
       "       [ True],\n",
       "       [ True],\n",
       "       [ True],\n",
       "       [ True],\n",
       "       [ True],\n",
       "       [ True],\n",
       "       [ True],\n",
       "       [ True],\n",
       "       [ True],\n",
       "       [ True],\n",
       "       [ True],\n",
       "       [ True],\n",
       "       [ True],\n",
       "       [ True],\n",
       "       [ True],\n",
       "       [ True],\n",
       "       [ True],\n",
       "       [ True],\n",
       "       [ True],\n",
       "       [ True],\n",
       "       [ True],\n",
       "       [ True],\n",
       "       [ True],\n",
       "       [ True],\n",
       "       [ True],\n",
       "       [ True],\n",
       "       [ True],\n",
       "       [ True],\n",
       "       [ True],\n",
       "       [ True],\n",
       "       [ True],\n",
       "       [ True],\n",
       "       [ True],\n",
       "       [ True],\n",
       "       [ True],\n",
       "       [ True],\n",
       "       [ True],\n",
       "       [ True],\n",
       "       [ True],\n",
       "       [ True],\n",
       "       [False],\n",
       "       [ True],\n",
       "       [ True],\n",
       "       [ True],\n",
       "       [ True],\n",
       "       [ True],\n",
       "       [ True],\n",
       "       [ True],\n",
       "       [ True],\n",
       "       [ True],\n",
       "       [ True],\n",
       "       [ True],\n",
       "       [ True],\n",
       "       [ True],\n",
       "       [ True],\n",
       "       [ True],\n",
       "       [ True],\n",
       "       [ True],\n",
       "       [ True],\n",
       "       [ True],\n",
       "       [ True],\n",
       "       [ True],\n",
       "       [ True],\n",
       "       [ True],\n",
       "       [ True],\n",
       "       [ True],\n",
       "       [ True],\n",
       "       [ True],\n",
       "       [ True],\n",
       "       [ True],\n",
       "       [ True],\n",
       "       [ True],\n",
       "       [ True],\n",
       "       [ True],\n",
       "       [ True],\n",
       "       [ True],\n",
       "       [ True],\n",
       "       [ True],\n",
       "       [ True],\n",
       "       [ True],\n",
       "       [ True],\n",
       "       [ True],\n",
       "       [ True],\n",
       "       [ True],\n",
       "       [ True],\n",
       "       [ True],\n",
       "       [ True],\n",
       "       [ True],\n",
       "       [ True],\n",
       "       [ True],\n",
       "       [ True],\n",
       "       [ True],\n",
       "       [ True],\n",
       "       [ True],\n",
       "       [ True],\n",
       "       [ True],\n",
       "       [ True],\n",
       "       [ True],\n",
       "       [ True],\n",
       "       [ True],\n",
       "       [ True],\n",
       "       [ True],\n",
       "       [ True],\n",
       "       [ True],\n",
       "       [ True],\n",
       "       [ True],\n",
       "       [ True],\n",
       "       [ True],\n",
       "       [ True],\n",
       "       [ True],\n",
       "       [ True],\n",
       "       [ True],\n",
       "       [ True],\n",
       "       [ True],\n",
       "       [ True],\n",
       "       [ True],\n",
       "       [ True],\n",
       "       [ True],\n",
       "       [ True],\n",
       "       [ True],\n",
       "       [ True],\n",
       "       [ True],\n",
       "       [ True],\n",
       "       [ True],\n",
       "       [ True],\n",
       "       [ True],\n",
       "       [ True],\n",
       "       [ True],\n",
       "       [ True],\n",
       "       [ True],\n",
       "       [ True],\n",
       "       [ True],\n",
       "       [ True],\n",
       "       [ True],\n",
       "       [ True],\n",
       "       [ True],\n",
       "       [ True],\n",
       "       [ True],\n",
       "       [ True],\n",
       "       [ True],\n",
       "       [ True],\n",
       "       [ True],\n",
       "       [ True],\n",
       "       [ True],\n",
       "       [ True],\n",
       "       [ True],\n",
       "       [ True],\n",
       "       [ True],\n",
       "       [ True],\n",
       "       [ True],\n",
       "       [ True],\n",
       "       [ True],\n",
       "       [ True],\n",
       "       [ True],\n",
       "       [ True],\n",
       "       [ True],\n",
       "       [ True],\n",
       "       [ True],\n",
       "       [ True],\n",
       "       [ True],\n",
       "       [ True],\n",
       "       [ True],\n",
       "       [ True],\n",
       "       [ True],\n",
       "       [ True],\n",
       "       [ True],\n",
       "       [ True],\n",
       "       [ True],\n",
       "       [ True],\n",
       "       [ True],\n",
       "       [ True],\n",
       "       [ True],\n",
       "       [ True],\n",
       "       [ True],\n",
       "       [ True],\n",
       "       [ True],\n",
       "       [ True],\n",
       "       [ True],\n",
       "       [ True],\n",
       "       [ True],\n",
       "       [ True],\n",
       "       [ True],\n",
       "       [ True],\n",
       "       [ True],\n",
       "       [ True],\n",
       "       [ True],\n",
       "       [ True],\n",
       "       [ True],\n",
       "       [ True],\n",
       "       [ True],\n",
       "       [ True],\n",
       "       [ True],\n",
       "       [ True],\n",
       "       [ True],\n",
       "       [ True],\n",
       "       [ True],\n",
       "       [ True],\n",
       "       [ True],\n",
       "       [ True],\n",
       "       [ True],\n",
       "       [ True],\n",
       "       [ True],\n",
       "       [ True],\n",
       "       [ True],\n",
       "       [ True],\n",
       "       [ True],\n",
       "       [ True],\n",
       "       [ True],\n",
       "       [ True],\n",
       "       [ True],\n",
       "       [ True],\n",
       "       [ True],\n",
       "       [ True],\n",
       "       [ True],\n",
       "       [ True],\n",
       "       [ True]])"
      ]
     },
     "execution_count": 63,
     "metadata": {},
     "output_type": "execute_result"
    }
   ],
   "source": [
    "predictions"
   ]
  },
  {
   "cell_type": "code",
   "execution_count": 64,
   "metadata": {},
   "outputs": [],
   "source": [
    "from sklearn.metrics import classification_report,confusion_matrix"
   ]
  },
  {
   "cell_type": "code",
   "execution_count": 65,
   "metadata": {},
   "outputs": [
    {
     "name": "stdout",
     "output_type": "stream",
     "text": [
      "              precision    recall  f1-score   support\n",
      "\n",
      "           0       1.00      0.95      0.97       334\n",
      "           1       0.94      1.00      0.97       249\n",
      "\n",
      "    accuracy                           0.97       583\n",
      "   macro avg       0.97      0.97      0.97       583\n",
      "weighted avg       0.97      0.97      0.97       583\n",
      "\n"
     ]
    }
   ],
   "source": [
    "print(classification_report(test_image_gen.classes,predictions))"
   ]
  },
  {
   "cell_type": "code",
   "execution_count": 66,
   "metadata": {},
   "outputs": [
    {
     "data": {
      "text/plain": [
       "array([[318,  16],\n",
       "       [  1, 248]], dtype=int64)"
      ]
     },
     "execution_count": 66,
     "metadata": {},
     "output_type": "execute_result"
    }
   ],
   "source": [
    "confusion_matrix(test_image_gen.classes,predictions)"
   ]
  },
  {
   "cell_type": "code",
   "execution_count": 111,
   "metadata": {},
   "outputs": [],
   "source": [
    "stick_figure = 'D:\\\\Pycharm\\\\Anomalous_detection_CNN\\\\data\\\\train\\\\\\\\abnormal\\\\Image412.png'"
   ]
  },
  {
   "cell_type": "code",
   "execution_count": 112,
   "metadata": {},
   "outputs": [],
   "source": [
    "my_image = image.load_img(stick_figure,target_size=image_shape)"
   ]
  },
  {
   "cell_type": "code",
   "execution_count": 113,
   "metadata": {},
   "outputs": [
    {
     "data": {
      "image/png": "[encoded data removed]",
      "text/plain": [
       "<PIL.Image.Image image mode=RGB size=105x300 at 0x124C2836148>"
      ]
     },
     "execution_count": 113,
     "metadata": {},
     "output_type": "execute_result"
    }
   ],
   "source": [
    "my_image"
   ]
  },
  {
   "cell_type": "code",
   "execution_count": 114,
   "metadata": {},
   "outputs": [
    {
     "data": {
      "text/plain": [
       "PIL.Image.Image"
      ]
     },
     "execution_count": 114,
     "metadata": {},
     "output_type": "execute_result"
    }
   ],
   "source": [
    "type(my_image)"
   ]
  },
  {
   "cell_type": "code",
   "execution_count": 115,
   "metadata": {},
   "outputs": [],
   "source": [
    "my_image = image.img_to_array(my_image)"
   ]
  },
  {
   "cell_type": "code",
   "execution_count": 116,
   "metadata": {},
   "outputs": [
    {
     "data": {
      "text/plain": [
       "numpy.ndarray"
      ]
     },
     "execution_count": 116,
     "metadata": {},
     "output_type": "execute_result"
    }
   ],
   "source": [
    "type(my_image)"
   ]
  },
  {
   "cell_type": "code",
   "execution_count": 117,
   "metadata": {},
   "outputs": [
    {
     "data": {
      "text/plain": [
       "(300, 105, 3)"
      ]
     },
     "execution_count": 117,
     "metadata": {},
     "output_type": "execute_result"
    }
   ],
   "source": [
    "my_image.shape"
   ]
  },
  {
   "cell_type": "code",
   "execution_count": 118,
   "metadata": {},
   "outputs": [],
   "source": [
    "my_image = np.expand_dims(my_image, axis=0)"
   ]
  },
  {
   "cell_type": "code",
   "execution_count": 119,
   "metadata": {},
   "outputs": [
    {
     "data": {
      "text/plain": [
       "(1, 300, 105, 3)"
      ]
     },
     "execution_count": 119,
     "metadata": {},
     "output_type": "execute_result"
    }
   ],
   "source": [
    "my_image.shape"
   ]
  },
  {
   "cell_type": "code",
   "execution_count": 120,
   "metadata": {},
   "outputs": [
    {
     "data": {
      "text/plain": [
       "array([[0.]], dtype=float32)"
      ]
     },
     "execution_count": 120,
     "metadata": {},
     "output_type": "execute_result"
    }
   ],
   "source": [
    "model.predict(my_image)"
   ]
  },
  {
   "cell_type": "code",
   "execution_count": 110,
   "metadata": {},
   "outputs": [
    {
     "data": {
      "text/plain": [
       "{'abnormal': 0, 'normal': 1}"
      ]
     },
     "execution_count": 110,
     "metadata": {},
     "output_type": "execute_result"
    }
   ],
   "source": [
    "test_image_gen.class_indices"
   ]
  },
  {
   "cell_type": "code",
   "execution_count": null,
   "metadata": {},
   "outputs": [],
   "source": []
  }
 ],
 "metadata": {
  "kernelspec": {
   "display_name": "Python 3",
   "language": "python",
   "name": "python3"
  },
  "language_info": {
   "codemirror_mode": {
    "name": "ipython",
    "version": 3
   },
   "file_extension": ".py",
   "mimetype": "text/x-python",
   "name": "python",
   "nbconvert_exporter": "python",
   "pygments_lexer": "ipython3",
   "version": "3.6.6"
  }
 },
 "nbformat": 4,
 "nbformat_minor": 4
}
